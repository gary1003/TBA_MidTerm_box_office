{
  "cells": [
    {
      "cell_type": "markdown",
      "metadata": {
        "id": "ToBM3ZqAg0u7"
      },
      "source": [
        "# CIE 5104 Traveler Behavior Analysis: Mid-Term Examination (Take-Home)\n",
        "## Q1 Box office prediction\n",
        "### Data collection - TMDB"
      ]
    },
    {
      "cell_type": "code",
      "execution_count": 1,
      "metadata": {
        "id": "ycqO6Qs9g0vW"
      },
      "outputs": [],
      "source": [
        "import pandas as pd\n",
        "import requests\n",
        "from bs4 import BeautifulSoup\n",
        "import numpy as np\n",
        "from sklearn.model_selection import train_test_split\n",
        "import math\n",
        "from collections import Counter\n",
        "from datetime import datetime\n",
        "from xgboost import XGBRegressor\n",
        "from sklearn.multioutput import MultiOutputRegressor\n",
        "import re\n",
        "from sklearn.model_selection import GridSearchCV, train_test_split"
      ]
    },
    {
      "cell_type": "code",
      "source": [
        "from google.colab import drive\n",
        "drive.mount('/content/drive')"
      ],
      "metadata": {
        "colab": {
          "base_uri": "https://localhost:8080/"
        },
        "id": "WCz32xFthADk",
        "outputId": "85cc01eb-6d0d-457c-fe42-9f4c4cfd074d"
      },
      "execution_count": 2,
      "outputs": [
        {
          "output_type": "stream",
          "name": "stdout",
          "text": [
            "Mounted at /content/drive\n"
          ]
        }
      ]
    },
    {
      "cell_type": "code",
      "execution_count": 17,
      "metadata": {
        "colab": {
          "base_uri": "https://localhost:8080/",
          "height": 424
        },
        "id": "bfdZ_FfOg0wd",
        "outputId": "583d12e0-a9c0-4867-91e7-4029209b9225"
      },
      "outputs": [
        {
          "output_type": "execute_result",
          "data": {
            "text/plain": [
              "   adult                              belongs_to_collection      budget  \\\n",
              "0  False                                                NaN   4000000.0   \n",
              "1  False                                                NaN  21000000.0   \n",
              "2  False  {'id': 10, 'name': 'Star Wars Collection', 'po...  11000000.0   \n",
              "3  False  {'id': 137697, 'name': 'Finding Nemo Collectio...  94000000.0   \n",
              "4  False                                                NaN  55000000.0   \n",
              "\n",
              "                                              genres    id    imdb_id  \\\n",
              "0  [{'id': 80, 'name': 'Crime'}, {'id': 35, 'name...   5.0  tt0113101   \n",
              "1  [{'id': 28, 'name': 'Action'}, {'id': 53, 'nam...   6.0  tt0107286   \n",
              "2  [{'id': 12, 'name': 'Adventure'}, {'id': 28, '...  11.0  tt0076759   \n",
              "3  [{'id': 16, 'name': 'Animation'}, {'id': 10751...  12.0  tt0266543   \n",
              "4  [{'id': 35, 'name': 'Comedy'}, {'id': 18, 'nam...  13.0  tt0109830   \n",
              "\n",
              "  original_language  original_title  popularity  \\\n",
              "0                en      Four Rooms      18.437   \n",
              "1                en  Judgment Night      10.566   \n",
              "2                en       Star Wars      89.361   \n",
              "3                en    Finding Nemo     132.131   \n",
              "4                en    Forrest Gump      67.124   \n",
              "\n",
              "                                production_companies  \\\n",
              "0  [{'id': 14, 'logo_path': '/m6AHu84oZQxvq7n1rsv...   \n",
              "1  [{'id': 33, 'logo_path': '/8lvHyhjr8oUKOOy2dKX...   \n",
              "2  [{'id': 1, 'logo_path': '/o86DbpburjxrqAzEDhXZ...   \n",
              "3  [{'id': 3, 'logo_path': '/1TjvGVDMYsj6JBxOAkUH...   \n",
              "4  [{'id': 4, 'logo_path': '/fycMZt242LVjagMByZOL...   \n",
              "\n",
              "                                production_countries release_date  runtime  \\\n",
              "0  [{'iso_3166_1': 'US', 'name': 'United States o...   1995-12-09     98.0   \n",
              "1  [{'iso_3166_1': 'JP', 'name': 'Japan'}, {'iso_...   1993-10-15    110.0   \n",
              "2  [{'iso_3166_1': 'US', 'name': 'United States o...   1977-05-25    121.0   \n",
              "3  [{'iso_3166_1': 'US', 'name': 'United States o...   2003-05-30    100.0   \n",
              "4  [{'iso_3166_1': 'US', 'name': 'United States o...   1994-07-06    142.0   \n",
              "\n",
              "                                    spoken_languages           title  \\\n",
              "0  [{'english_name': 'English', 'iso_639_1': 'en'...      Four Rooms   \n",
              "1  [{'english_name': 'English', 'iso_639_1': 'en'...  Judgment Night   \n",
              "2  [{'english_name': 'English', 'iso_639_1': 'en'...       Star Wars   \n",
              "3  [{'english_name': 'English', 'iso_639_1': 'en'...    Finding Nemo   \n",
              "4  [{'english_name': 'English', 'iso_639_1': 'en'...    Forrest Gump   \n",
              "\n",
              "   opening_box_office                                              casts  \\\n",
              "0            427733.0  [{'adult': False, 'gender': 2, 'id': 3129, 'kn...   \n",
              "1           4088955.0  [{'adult': False, 'gender': 2, 'id': 2880, 'kn...   \n",
              "2           1554475.0  [{'adult': False, 'gender': 2, 'id': 2, 'known...   \n",
              "3          70251710.0  [{'adult': False, 'gender': 2, 'id': 13, 'know...   \n",
              "4          24450602.0  [{'adult': False, 'gender': 2, 'id': 31, 'know...   \n",
              "\n",
              "                                            keywords  trailer_views  \n",
              "0  [{'id': 612, 'name': 'hotel'}, {'id': 613, 'na...            NaN  \n",
              "1  [{'id': 520, 'name': 'chicago, illinois'}, {'i...            NaN  \n",
              "2  [{'id': 803, 'name': 'android'}, {'id': 4270, ...            NaN  \n",
              "3  [{'id': 970, 'name': 'parent child relationshi...            NaN  \n",
              "4  [{'id': 422, 'name': 'vietnam veteran'}, {'id'...            NaN  "
            ],
            "text/html": [
              "\n",
              "  <div id=\"df-407b229b-ce48-4523-91eb-ef1f49e62922\">\n",
              "    <div class=\"colab-df-container\">\n",
              "      <div>\n",
              "<style scoped>\n",
              "    .dataframe tbody tr th:only-of-type {\n",
              "        vertical-align: middle;\n",
              "    }\n",
              "\n",
              "    .dataframe tbody tr th {\n",
              "        vertical-align: top;\n",
              "    }\n",
              "\n",
              "    .dataframe thead th {\n",
              "        text-align: right;\n",
              "    }\n",
              "</style>\n",
              "<table border=\"1\" class=\"dataframe\">\n",
              "  <thead>\n",
              "    <tr style=\"text-align: right;\">\n",
              "      <th></th>\n",
              "      <th>adult</th>\n",
              "      <th>belongs_to_collection</th>\n",
              "      <th>budget</th>\n",
              "      <th>genres</th>\n",
              "      <th>id</th>\n",
              "      <th>imdb_id</th>\n",
              "      <th>original_language</th>\n",
              "      <th>original_title</th>\n",
              "      <th>popularity</th>\n",
              "      <th>production_companies</th>\n",
              "      <th>production_countries</th>\n",
              "      <th>release_date</th>\n",
              "      <th>runtime</th>\n",
              "      <th>spoken_languages</th>\n",
              "      <th>title</th>\n",
              "      <th>opening_box_office</th>\n",
              "      <th>casts</th>\n",
              "      <th>keywords</th>\n",
              "      <th>trailer_views</th>\n",
              "    </tr>\n",
              "  </thead>\n",
              "  <tbody>\n",
              "    <tr>\n",
              "      <th>0</th>\n",
              "      <td>False</td>\n",
              "      <td>NaN</td>\n",
              "      <td>4000000.0</td>\n",
              "      <td>[{'id': 80, 'name': 'Crime'}, {'id': 35, 'name...</td>\n",
              "      <td>5.0</td>\n",
              "      <td>tt0113101</td>\n",
              "      <td>en</td>\n",
              "      <td>Four Rooms</td>\n",
              "      <td>18.437</td>\n",
              "      <td>[{'id': 14, 'logo_path': '/m6AHu84oZQxvq7n1rsv...</td>\n",
              "      <td>[{'iso_3166_1': 'US', 'name': 'United States o...</td>\n",
              "      <td>1995-12-09</td>\n",
              "      <td>98.0</td>\n",
              "      <td>[{'english_name': 'English', 'iso_639_1': 'en'...</td>\n",
              "      <td>Four Rooms</td>\n",
              "      <td>427733.0</td>\n",
              "      <td>[{'adult': False, 'gender': 2, 'id': 3129, 'kn...</td>\n",
              "      <td>[{'id': 612, 'name': 'hotel'}, {'id': 613, 'na...</td>\n",
              "      <td>NaN</td>\n",
              "    </tr>\n",
              "    <tr>\n",
              "      <th>1</th>\n",
              "      <td>False</td>\n",
              "      <td>NaN</td>\n",
              "      <td>21000000.0</td>\n",
              "      <td>[{'id': 28, 'name': 'Action'}, {'id': 53, 'nam...</td>\n",
              "      <td>6.0</td>\n",
              "      <td>tt0107286</td>\n",
              "      <td>en</td>\n",
              "      <td>Judgment Night</td>\n",
              "      <td>10.566</td>\n",
              "      <td>[{'id': 33, 'logo_path': '/8lvHyhjr8oUKOOy2dKX...</td>\n",
              "      <td>[{'iso_3166_1': 'JP', 'name': 'Japan'}, {'iso_...</td>\n",
              "      <td>1993-10-15</td>\n",
              "      <td>110.0</td>\n",
              "      <td>[{'english_name': 'English', 'iso_639_1': 'en'...</td>\n",
              "      <td>Judgment Night</td>\n",
              "      <td>4088955.0</td>\n",
              "      <td>[{'adult': False, 'gender': 2, 'id': 2880, 'kn...</td>\n",
              "      <td>[{'id': 520, 'name': 'chicago, illinois'}, {'i...</td>\n",
              "      <td>NaN</td>\n",
              "    </tr>\n",
              "    <tr>\n",
              "      <th>2</th>\n",
              "      <td>False</td>\n",
              "      <td>{'id': 10, 'name': 'Star Wars Collection', 'po...</td>\n",
              "      <td>11000000.0</td>\n",
              "      <td>[{'id': 12, 'name': 'Adventure'}, {'id': 28, '...</td>\n",
              "      <td>11.0</td>\n",
              "      <td>tt0076759</td>\n",
              "      <td>en</td>\n",
              "      <td>Star Wars</td>\n",
              "      <td>89.361</td>\n",
              "      <td>[{'id': 1, 'logo_path': '/o86DbpburjxrqAzEDhXZ...</td>\n",
              "      <td>[{'iso_3166_1': 'US', 'name': 'United States o...</td>\n",
              "      <td>1977-05-25</td>\n",
              "      <td>121.0</td>\n",
              "      <td>[{'english_name': 'English', 'iso_639_1': 'en'...</td>\n",
              "      <td>Star Wars</td>\n",
              "      <td>1554475.0</td>\n",
              "      <td>[{'adult': False, 'gender': 2, 'id': 2, 'known...</td>\n",
              "      <td>[{'id': 803, 'name': 'android'}, {'id': 4270, ...</td>\n",
              "      <td>NaN</td>\n",
              "    </tr>\n",
              "    <tr>\n",
              "      <th>3</th>\n",
              "      <td>False</td>\n",
              "      <td>{'id': 137697, 'name': 'Finding Nemo Collectio...</td>\n",
              "      <td>94000000.0</td>\n",
              "      <td>[{'id': 16, 'name': 'Animation'}, {'id': 10751...</td>\n",
              "      <td>12.0</td>\n",
              "      <td>tt0266543</td>\n",
              "      <td>en</td>\n",
              "      <td>Finding Nemo</td>\n",
              "      <td>132.131</td>\n",
              "      <td>[{'id': 3, 'logo_path': '/1TjvGVDMYsj6JBxOAkUH...</td>\n",
              "      <td>[{'iso_3166_1': 'US', 'name': 'United States o...</td>\n",
              "      <td>2003-05-30</td>\n",
              "      <td>100.0</td>\n",
              "      <td>[{'english_name': 'English', 'iso_639_1': 'en'...</td>\n",
              "      <td>Finding Nemo</td>\n",
              "      <td>70251710.0</td>\n",
              "      <td>[{'adult': False, 'gender': 2, 'id': 13, 'know...</td>\n",
              "      <td>[{'id': 970, 'name': 'parent child relationshi...</td>\n",
              "      <td>NaN</td>\n",
              "    </tr>\n",
              "    <tr>\n",
              "      <th>4</th>\n",
              "      <td>False</td>\n",
              "      <td>NaN</td>\n",
              "      <td>55000000.0</td>\n",
              "      <td>[{'id': 35, 'name': 'Comedy'}, {'id': 18, 'nam...</td>\n",
              "      <td>13.0</td>\n",
              "      <td>tt0109830</td>\n",
              "      <td>en</td>\n",
              "      <td>Forrest Gump</td>\n",
              "      <td>67.124</td>\n",
              "      <td>[{'id': 4, 'logo_path': '/fycMZt242LVjagMByZOL...</td>\n",
              "      <td>[{'iso_3166_1': 'US', 'name': 'United States o...</td>\n",
              "      <td>1994-07-06</td>\n",
              "      <td>142.0</td>\n",
              "      <td>[{'english_name': 'English', 'iso_639_1': 'en'...</td>\n",
              "      <td>Forrest Gump</td>\n",
              "      <td>24450602.0</td>\n",
              "      <td>[{'adult': False, 'gender': 2, 'id': 31, 'know...</td>\n",
              "      <td>[{'id': 422, 'name': 'vietnam veteran'}, {'id'...</td>\n",
              "      <td>NaN</td>\n",
              "    </tr>\n",
              "  </tbody>\n",
              "</table>\n",
              "</div>\n",
              "      <button class=\"colab-df-convert\" onclick=\"convertToInteractive('df-407b229b-ce48-4523-91eb-ef1f49e62922')\"\n",
              "              title=\"Convert this dataframe to an interactive table.\"\n",
              "              style=\"display:none;\">\n",
              "        \n",
              "  <svg xmlns=\"http://www.w3.org/2000/svg\" height=\"24px\"viewBox=\"0 0 24 24\"\n",
              "       width=\"24px\">\n",
              "    <path d=\"M0 0h24v24H0V0z\" fill=\"none\"/>\n",
              "    <path d=\"M18.56 5.44l.94 2.06.94-2.06 2.06-.94-2.06-.94-.94-2.06-.94 2.06-2.06.94zm-11 1L8.5 8.5l.94-2.06 2.06-.94-2.06-.94L8.5 2.5l-.94 2.06-2.06.94zm10 10l.94 2.06.94-2.06 2.06-.94-2.06-.94-.94-2.06-.94 2.06-2.06.94z\"/><path d=\"M17.41 7.96l-1.37-1.37c-.4-.4-.92-.59-1.43-.59-.52 0-1.04.2-1.43.59L10.3 9.45l-7.72 7.72c-.78.78-.78 2.05 0 2.83L4 21.41c.39.39.9.59 1.41.59.51 0 1.02-.2 1.41-.59l7.78-7.78 2.81-2.81c.8-.78.8-2.07 0-2.86zM5.41 20L4 18.59l7.72-7.72 1.47 1.35L5.41 20z\"/>\n",
              "  </svg>\n",
              "      </button>\n",
              "      \n",
              "  <style>\n",
              "    .colab-df-container {\n",
              "      display:flex;\n",
              "      flex-wrap:wrap;\n",
              "      gap: 12px;\n",
              "    }\n",
              "\n",
              "    .colab-df-convert {\n",
              "      background-color: #E8F0FE;\n",
              "      border: none;\n",
              "      border-radius: 50%;\n",
              "      cursor: pointer;\n",
              "      display: none;\n",
              "      fill: #1967D2;\n",
              "      height: 32px;\n",
              "      padding: 0 0 0 0;\n",
              "      width: 32px;\n",
              "    }\n",
              "\n",
              "    .colab-df-convert:hover {\n",
              "      background-color: #E2EBFA;\n",
              "      box-shadow: 0px 1px 2px rgba(60, 64, 67, 0.3), 0px 1px 3px 1px rgba(60, 64, 67, 0.15);\n",
              "      fill: #174EA6;\n",
              "    }\n",
              "\n",
              "    [theme=dark] .colab-df-convert {\n",
              "      background-color: #3B4455;\n",
              "      fill: #D2E3FC;\n",
              "    }\n",
              "\n",
              "    [theme=dark] .colab-df-convert:hover {\n",
              "      background-color: #434B5C;\n",
              "      box-shadow: 0px 1px 3px 1px rgba(0, 0, 0, 0.15);\n",
              "      filter: drop-shadow(0px 1px 2px rgba(0, 0, 0, 0.3));\n",
              "      fill: #FFFFFF;\n",
              "    }\n",
              "  </style>\n",
              "\n",
              "      <script>\n",
              "        const buttonEl =\n",
              "          document.querySelector('#df-407b229b-ce48-4523-91eb-ef1f49e62922 button.colab-df-convert');\n",
              "        buttonEl.style.display =\n",
              "          google.colab.kernel.accessAllowed ? 'block' : 'none';\n",
              "\n",
              "        async function convertToInteractive(key) {\n",
              "          const element = document.querySelector('#df-407b229b-ce48-4523-91eb-ef1f49e62922');\n",
              "          const dataTable =\n",
              "            await google.colab.kernel.invokeFunction('convertToInteractive',\n",
              "                                                     [key], {});\n",
              "          if (!dataTable) return;\n",
              "\n",
              "          const docLinkHtml = 'Like what you see? Visit the ' +\n",
              "            '<a target=\"_blank\" href=https://colab.research.google.com/notebooks/data_table.ipynb>data table notebook</a>'\n",
              "            + ' to learn more about interactive tables.';\n",
              "          element.innerHTML = '';\n",
              "          dataTable['output_type'] = 'display_data';\n",
              "          await google.colab.output.renderOutput(dataTable, element);\n",
              "          const docLink = document.createElement('div');\n",
              "          docLink.innerHTML = docLinkHtml;\n",
              "          element.appendChild(docLink);\n",
              "        }\n",
              "      </script>\n",
              "    </div>\n",
              "  </div>\n",
              "  "
            ]
          },
          "metadata": {},
          "execution_count": 17
        }
      ],
      "source": [
        "df = pd.read_csv('/content/drive/MyDrive/movies_views.csv').dropna(subset=['opening_box_office'])\n",
        "df['keywords'].fillna('[]', inplace=True)\n",
        "df.head()"
      ]
    },
    {
      "cell_type": "code",
      "execution_count": 19,
      "metadata": {
        "colab": {
          "base_uri": "https://localhost:8080/",
          "height": 159
        },
        "id": "c64WGcR2g0wf",
        "outputId": "a266dda1-a89f-421a-c760-5db374b60e11"
      },
      "outputs": [
        {
          "output_type": "execute_result",
          "data": {
            "text/plain": [
              "   adult                              belongs_to_collection     budget  \\\n",
              "0  False  {'id': 618529, 'name': 'Doctor Strange Collect...  170000000   \n",
              "\n",
              "                                              genres      id    imdb_id  \\\n",
              "0  [{'id': 14, 'name': 'Fantasy'}, {'id': 28, 'na...  453395  tt9419884   \n",
              "\n",
              "  original_language                               original_title  popularity  \\\n",
              "0                en  Doctor Strange in the Multiverse of Madness     519.885   \n",
              "\n",
              "                                production_companies  \\\n",
              "0  [{'id': 420, 'logo_path': '/hUzeosd33nzE5MCNsZ...   \n",
              "\n",
              "                                production_countries release_date  runtime  \\\n",
              "0  [{'iso_3166_1': 'US', 'name': 'United States o...   2022-05-04    126.0   \n",
              "\n",
              "                                    spoken_languages  \\\n",
              "0  [{'english_name': 'English', 'iso_639_1': 'en'...   \n",
              "\n",
              "                                         title  \\\n",
              "0  Doctor Strange in the Multiverse of Madness   \n",
              "\n",
              "                                               casts  \\\n",
              "0  [{'adult': False, 'gender': 2, 'id': 71580, 'k...   \n",
              "\n",
              "                                            keywords  trailer_views  \\\n",
              "0  [{'id': 2343, 'name': 'magic'}, {'id': 9717, '...     88330000.0   \n",
              "\n",
              "   no_trailer  \n",
              "0           0  "
            ],
            "text/html": [
              "\n",
              "  <div id=\"df-3695f362-fe42-49d3-9e8e-7cc0a255f0e2\">\n",
              "    <div class=\"colab-df-container\">\n",
              "      <div>\n",
              "<style scoped>\n",
              "    .dataframe tbody tr th:only-of-type {\n",
              "        vertical-align: middle;\n",
              "    }\n",
              "\n",
              "    .dataframe tbody tr th {\n",
              "        vertical-align: top;\n",
              "    }\n",
              "\n",
              "    .dataframe thead th {\n",
              "        text-align: right;\n",
              "    }\n",
              "</style>\n",
              "<table border=\"1\" class=\"dataframe\">\n",
              "  <thead>\n",
              "    <tr style=\"text-align: right;\">\n",
              "      <th></th>\n",
              "      <th>adult</th>\n",
              "      <th>belongs_to_collection</th>\n",
              "      <th>budget</th>\n",
              "      <th>genres</th>\n",
              "      <th>id</th>\n",
              "      <th>imdb_id</th>\n",
              "      <th>original_language</th>\n",
              "      <th>original_title</th>\n",
              "      <th>popularity</th>\n",
              "      <th>production_companies</th>\n",
              "      <th>production_countries</th>\n",
              "      <th>release_date</th>\n",
              "      <th>runtime</th>\n",
              "      <th>spoken_languages</th>\n",
              "      <th>title</th>\n",
              "      <th>casts</th>\n",
              "      <th>keywords</th>\n",
              "      <th>trailer_views</th>\n",
              "      <th>no_trailer</th>\n",
              "    </tr>\n",
              "  </thead>\n",
              "  <tbody>\n",
              "    <tr>\n",
              "      <th>0</th>\n",
              "      <td>False</td>\n",
              "      <td>{'id': 618529, 'name': 'Doctor Strange Collect...</td>\n",
              "      <td>170000000</td>\n",
              "      <td>[{'id': 14, 'name': 'Fantasy'}, {'id': 28, 'na...</td>\n",
              "      <td>453395</td>\n",
              "      <td>tt9419884</td>\n",
              "      <td>en</td>\n",
              "      <td>Doctor Strange in the Multiverse of Madness</td>\n",
              "      <td>519.885</td>\n",
              "      <td>[{'id': 420, 'logo_path': '/hUzeosd33nzE5MCNsZ...</td>\n",
              "      <td>[{'iso_3166_1': 'US', 'name': 'United States o...</td>\n",
              "      <td>2022-05-04</td>\n",
              "      <td>126.0</td>\n",
              "      <td>[{'english_name': 'English', 'iso_639_1': 'en'...</td>\n",
              "      <td>Doctor Strange in the Multiverse of Madness</td>\n",
              "      <td>[{'adult': False, 'gender': 2, 'id': 71580, 'k...</td>\n",
              "      <td>[{'id': 2343, 'name': 'magic'}, {'id': 9717, '...</td>\n",
              "      <td>88330000.0</td>\n",
              "      <td>0</td>\n",
              "    </tr>\n",
              "  </tbody>\n",
              "</table>\n",
              "</div>\n",
              "      <button class=\"colab-df-convert\" onclick=\"convertToInteractive('df-3695f362-fe42-49d3-9e8e-7cc0a255f0e2')\"\n",
              "              title=\"Convert this dataframe to an interactive table.\"\n",
              "              style=\"display:none;\">\n",
              "        \n",
              "  <svg xmlns=\"http://www.w3.org/2000/svg\" height=\"24px\"viewBox=\"0 0 24 24\"\n",
              "       width=\"24px\">\n",
              "    <path d=\"M0 0h24v24H0V0z\" fill=\"none\"/>\n",
              "    <path d=\"M18.56 5.44l.94 2.06.94-2.06 2.06-.94-2.06-.94-.94-2.06-.94 2.06-2.06.94zm-11 1L8.5 8.5l.94-2.06 2.06-.94-2.06-.94L8.5 2.5l-.94 2.06-2.06.94zm10 10l.94 2.06.94-2.06 2.06-.94-2.06-.94-.94-2.06-.94 2.06-2.06.94z\"/><path d=\"M17.41 7.96l-1.37-1.37c-.4-.4-.92-.59-1.43-.59-.52 0-1.04.2-1.43.59L10.3 9.45l-7.72 7.72c-.78.78-.78 2.05 0 2.83L4 21.41c.39.39.9.59 1.41.59.51 0 1.02-.2 1.41-.59l7.78-7.78 2.81-2.81c.8-.78.8-2.07 0-2.86zM5.41 20L4 18.59l7.72-7.72 1.47 1.35L5.41 20z\"/>\n",
              "  </svg>\n",
              "      </button>\n",
              "      \n",
              "  <style>\n",
              "    .colab-df-container {\n",
              "      display:flex;\n",
              "      flex-wrap:wrap;\n",
              "      gap: 12px;\n",
              "    }\n",
              "\n",
              "    .colab-df-convert {\n",
              "      background-color: #E8F0FE;\n",
              "      border: none;\n",
              "      border-radius: 50%;\n",
              "      cursor: pointer;\n",
              "      display: none;\n",
              "      fill: #1967D2;\n",
              "      height: 32px;\n",
              "      padding: 0 0 0 0;\n",
              "      width: 32px;\n",
              "    }\n",
              "\n",
              "    .colab-df-convert:hover {\n",
              "      background-color: #E2EBFA;\n",
              "      box-shadow: 0px 1px 2px rgba(60, 64, 67, 0.3), 0px 1px 3px 1px rgba(60, 64, 67, 0.15);\n",
              "      fill: #174EA6;\n",
              "    }\n",
              "\n",
              "    [theme=dark] .colab-df-convert {\n",
              "      background-color: #3B4455;\n",
              "      fill: #D2E3FC;\n",
              "    }\n",
              "\n",
              "    [theme=dark] .colab-df-convert:hover {\n",
              "      background-color: #434B5C;\n",
              "      box-shadow: 0px 1px 3px 1px rgba(0, 0, 0, 0.15);\n",
              "      filter: drop-shadow(0px 1px 2px rgba(0, 0, 0, 0.3));\n",
              "      fill: #FFFFFF;\n",
              "    }\n",
              "  </style>\n",
              "\n",
              "      <script>\n",
              "        const buttonEl =\n",
              "          document.querySelector('#df-3695f362-fe42-49d3-9e8e-7cc0a255f0e2 button.colab-df-convert');\n",
              "        buttonEl.style.display =\n",
              "          google.colab.kernel.accessAllowed ? 'block' : 'none';\n",
              "\n",
              "        async function convertToInteractive(key) {\n",
              "          const element = document.querySelector('#df-3695f362-fe42-49d3-9e8e-7cc0a255f0e2');\n",
              "          const dataTable =\n",
              "            await google.colab.kernel.invokeFunction('convertToInteractive',\n",
              "                                                     [key], {});\n",
              "          if (!dataTable) return;\n",
              "\n",
              "          const docLinkHtml = 'Like what you see? Visit the ' +\n",
              "            '<a target=\"_blank\" href=https://colab.research.google.com/notebooks/data_table.ipynb>data table notebook</a>'\n",
              "            + ' to learn more about interactive tables.';\n",
              "          element.innerHTML = '';\n",
              "          dataTable['output_type'] = 'display_data';\n",
              "          await google.colab.output.renderOutput(dataTable, element);\n",
              "          const docLink = document.createElement('div');\n",
              "          docLink.innerHTML = docLinkHtml;\n",
              "          element.appendChild(docLink);\n",
              "        }\n",
              "      </script>\n",
              "    </div>\n",
              "  </div>\n",
              "  "
            ]
          },
          "metadata": {},
          "execution_count": 19
        }
      ],
      "source": [
        "pred = pd.read_csv('/content/drive/MyDrive/pred.csv')\n",
        "pred['trailer_views'] = 88330000.0\n",
        "pred['no_trailer'] = 0\n",
        "pred"
      ]
    },
    {
      "cell_type": "code",
      "execution_count": 5,
      "metadata": {
        "id": "x6A6WqVZg0wh"
      },
      "outputs": [],
      "source": [
        "list_of_genres = sum(list(df['genres'].apply(lambda x: [i['name'] for i in eval(x)])), [])\n",
        "top_genres = [m[0] for m in Counter(list_of_genres).most_common(15)]\n",
        "\n",
        "list_of_production_companies = sum(list(df['production_companies'].apply(lambda x: [i['name'] for i in eval(x)])), [])\n",
        "top_production_companies = [m[0] for m in Counter(list_of_production_companies).most_common(30)]\n",
        "\n",
        "list_of_production_countries = sum(list(df['production_countries'].apply(lambda x: [i['name'] for i in eval(x)])), [])\n",
        "top_production_countries = [m[0] for m in Counter(list_of_production_countries).most_common(25)]\n",
        "\n",
        "list_of_spoken_languages = sum(list(df['spoken_languages'].apply(lambda x: [i['english_name'] for i in eval(x)])), [])\n",
        "top_spoken_languages = [m[0] for m in Counter(list_of_spoken_languages).most_common(15)]\n",
        "\n",
        "list_of_keywords = sum(list(df['keywords'].apply(lambda x: [i['name'] for i in eval(x)])), [])\n",
        "top_keywords = [m[0] for m in Counter(list_of_keywords).most_common(30)]\n",
        "\n",
        "list_of_casts_names = sum(list(df['casts'].apply(lambda x: [i['name'] for i in eval(x)])), [])\n",
        "top_casts_names = [m[0] for m in Counter(list_of_casts_names).most_common(15)]\n",
        "\n",
        "list_of_casts_characters = sum(list(df['casts'].apply(lambda x: [i['character'] for i in eval(x)])), [])\n",
        "top_casts_characters = [m[0] for m in Counter(list_of_casts_characters).most_common(15)]"
      ]
    },
    {
      "cell_type": "code",
      "execution_count": 20,
      "metadata": {
        "id": "vJr7Nc95g0wi"
      },
      "outputs": [],
      "source": [
        "def collection_preprocessing(x):\n",
        "    x = str(x)\n",
        "    if x == 'nan':\n",
        "        return -1\n",
        "    else:\n",
        "        return int(eval(x)['id'])\n",
        "        \n",
        "def get_days_diff(x):\n",
        "    date_format = \"%Y-%m-%d\"\n",
        "    date_base = datetime.strptime('2022-05-04', date_format)\n",
        "    date_target = datetime.strptime(x, date_format)\n",
        "    return (date_target - date_base).days\n",
        "\n",
        "def get_month(x):\n",
        "    date_format = \"%Y-%m-%d\"\n",
        "    date_target = datetime.strptime(x, date_format)\n",
        "    return date_target.month\n",
        "    \n",
        "\n",
        "def pre_processing(X):\n",
        "    X.drop(['id', 'imdb_id'], axis=1, inplace=True)\n",
        "    X['genres'] = X['genres'].apply(lambda x: eval(x))\n",
        "    X['production_companies'] = X['production_companies'].apply(lambda x: eval(x))\n",
        "    X['production_countries'] = X['production_countries'].apply(lambda x: eval(x))\n",
        "    X['spoken_languages'] = X['spoken_languages'].apply(lambda x: eval(x))\n",
        "    X['casts'] = X['casts'].apply(lambda x: eval(x))\n",
        "    X['keywords'] = X['keywords'].apply(lambda x: eval(x))\n",
        "\n",
        "    X['collection_id'] = X['belongs_to_collection'].apply(collection_preprocessing)\n",
        "    X['has_collection'] = X['collection_id'].apply(lambda x: 1 if x != '' else 0)\n",
        "    X = X.drop(['belongs_to_collection'], axis=1)\n",
        "\n",
        "    X['genres_list'] = X['genres'].apply(lambda x: [i['name'] for i in x])\n",
        "    X['num_genres'] = X['genres_list'].apply(len)\n",
        "    for g in top_genres:\n",
        "        X['genre_' + g] = X['genres_list'].apply(lambda x: 1 if g in x else 0)\n",
        "    X = X.drop(['genres', 'genres_list'], axis=1)\n",
        "    \n",
        "    X['production_companies_list'] = X['production_companies'].apply(lambda x: [i['name'] for i in x])\n",
        "    X['num_production_companies'] = X['production_companies_list'].apply(len)\n",
        "    for c in top_production_companies:\n",
        "        X['production_company_' + c] = X['production_companies_list'].apply(lambda x: 1 if c in x else 0)\n",
        "    X = X.drop(['production_companies', 'production_companies_list'], axis=1)\n",
        "\n",
        "    X['production_countries_list'] = X['production_countries'].apply(lambda x: [i['name'] for i in x])\n",
        "    X['num_production_countries'] = X['production_countries_list'].apply(len)\n",
        "    for c in top_production_countries:\n",
        "        X['production_country_' + c] = X['production_countries_list'].apply(lambda x: 1 if c in x else 0)\n",
        "    X = X.drop(['production_countries', 'production_countries_list'], axis=1)\n",
        "\n",
        "    X['spoken_languages_list'] = X['spoken_languages'].apply(lambda x: [i['english_name'] for i in x])\n",
        "    X['num_spoken_languages'] = X['spoken_languages_list'].apply(len)\n",
        "    for l in top_spoken_languages:\n",
        "        X['spoken_language_' + l] = X['spoken_languages_list'].apply(lambda x: 1 if l in x else 0)\n",
        "    X = X.drop(['spoken_languages', 'spoken_languages_list'], axis=1)\n",
        "\n",
        "    X['keywords_list'] = X['keywords'].apply(lambda x: [i['name'] for i in x])\n",
        "    X['num_keywords'] = X['keywords_list'].apply(len)\n",
        "    for k in top_keywords:\n",
        "        X['keyword_' + k] = X['keywords_list'].apply(lambda x: 1 if k in x else 0)\n",
        "    X = X.drop(['keywords', 'keywords_list'], axis=1)\n",
        "    \n",
        "    X['casts_list'] = X['casts'].apply(lambda x: [i['name'] for i in x])\n",
        "    X['num_casts'] = X['casts_list'].apply(len)\n",
        "    for c in top_casts_names:\n",
        "        X['cast_' + c] = X['casts_list'].apply(lambda x: 1 if c in x else 0)\n",
        "    for c in top_casts_characters:\n",
        "        X['cast_character_' + c] = X['casts_list'].apply(lambda x: 1 if c in x else 0)\n",
        "    X['casts_gender_0'] = X['casts'].apply(lambda x: sum([1 for i in x if ['gender'] == 0]))\n",
        "    X['casts_gender_1'] = X['casts'].apply(lambda x: sum([1 for i in x if ['gender'] == 1]))\n",
        "    X['casts_gender_2'] = X['casts'].apply(lambda x: sum([1 for i in x if ['gender'] == 2]))    \n",
        "    X = X.drop(['casts', 'casts_list'], axis=1)\n",
        "\n",
        "    X['log_budget'] = np.log1p(X['budget'])\n",
        "\n",
        "    X['days_before'] = X['release_date'].apply(get_days_diff)\n",
        "    X['month'] = X['release_date'].apply(get_month)\n",
        "    for m in range(1,13):\n",
        "      X[f'month_{m}'] = X['month'].apply(lambda x: 1 if m == x else 0)\n",
        "    X = X.drop(['release_date', 'month'], axis=1)\n",
        "\n",
        "    X['adult'] = X['adult'].apply(lambda x: 1 if x == 'True' else 0)\n",
        "    X['adult'] = X['adult'].astype(np.int64)\n",
        "\n",
        "    X['no_trailer'] = X['trailer_views'].apply(lambda x: 1 if np.isnan(x) else 0)\n",
        "    X['trailer_views'] = X['trailer_views'].fillna(0)\n",
        "\n",
        "    X = X.drop(['original_language', 'original_title', 'title'], axis=1)\n",
        "    X = X.rename(columns = lambda x:re.sub('[^A-Za-z0-9_]+', '', x))\n",
        "    X.fillna(0)\n",
        "    return X"
      ]
    },
    {
      "cell_type": "code",
      "source": [
        "X = df.drop(['opening_box_office'], axis=1)\n",
        "y = df['opening_box_office']\n",
        "X = pre_processing(X)\n",
        "gsc = GridSearchCV(\n",
        "        estimator=XGBRegressor(),\n",
        "        param_grid={\"learning_rate\": (0.05, 0.10, 0.15),\n",
        "                    \"max_depth\": [ 3, 4, 5, 6, 8],\n",
        "                    \"min_child_weight\": [ 1, 3, 5, 7],\n",
        "                    \"gamma\":[ 0.0, 0.1, 0.2],\n",
        "                    \"colsample_bytree\":[ 0.3, 0.4],},\n",
        "        cv=3, scoring='neg_mean_squared_error', verbose=0, n_jobs=-1)\n",
        "grid_result = gsc.fit(X, y)\n",
        "print(f'best score: {grid_result.best_score_}')\n",
        "print(f'prediction: {grid_result.best_estimator_.predict(pred)[0]}')"
      ],
      "metadata": {
        "colab": {
          "base_uri": "https://localhost:8080/"
        },
        "id": "SkBO2Pw21M8r",
        "outputId": "f13de64a-2da9-4992-9b06-1c3311116b17"
      },
      "execution_count": 93,
      "outputs": [
        {
          "output_type": "stream",
          "name": "stdout",
          "text": [
            "[09:01:31] WARNING: /workspace/src/objective/regression_obj.cu:152: reg:linear is now deprecated in favor of reg:squarederror.\n",
            "best score: -132140320428685.75\n",
            "prediction: 51286580.0\n"
          ]
        }
      ]
    },
    {
      "cell_type": "code",
      "source": [
        "df_1k = df.nlargest(1000, 'opening_box_office')\n",
        "X = df_1k.drop(['opening_box_office'], axis=1)\n",
        "y = df_1k['opening_box_office']\n",
        "X = pre_processing(X)\n",
        "gsc = GridSearchCV(\n",
        "        estimator=XGBRegressor(),\n",
        "        param_grid={\"learning_rate\": (0.05, 0.10, 0.15),\n",
        "                    \"max_depth\": [ 3, 4, 5, 6, 8],\n",
        "                    \"min_child_weight\": [ 1, 3, 5, 7],\n",
        "                    \"gamma\":[ 0.0, 0.1, 0.2],\n",
        "                    \"colsample_bytree\":[ 0.3, 0.4],},\n",
        "        cv=3, scoring='neg_mean_squared_error', verbose=0, n_jobs=-1)\n",
        "grid_result = gsc.fit(X, y)\n",
        "print(f'best score: {grid_result.best_score_}')\n",
        "print(f'prediction: {grid_result.best_estimator_.predict(pred)[0]}')"
      ],
      "metadata": {
        "colab": {
          "base_uri": "https://localhost:8080/"
        },
        "id": "7PQVbZgn1tWG",
        "outputId": "12ac1355-6744-4997-c5ee-130a7443dade"
      },
      "execution_count": 94,
      "outputs": [
        {
          "output_type": "stream",
          "name": "stdout",
          "text": [
            "[09:04:31] WARNING: /workspace/src/objective/regression_obj.cu:152: reg:linear is now deprecated in favor of reg:squarederror.\n",
            "best score: -1486398820843763.2\n",
            "prediction: 55637892.0\n"
          ]
        }
      ]
    },
    {
      "cell_type": "code",
      "source": [
        "df_2k = df.nlargest(2000, 'opening_box_office')\n",
        "X = df_2k.drop(['opening_box_office'], axis=1)\n",
        "y = df_2k['opening_box_office']\n",
        "X = pre_processing(X)\n",
        "gsc = GridSearchCV(\n",
        "        estimator=XGBRegressor(),\n",
        "        param_grid={\"learning_rate\": (0.05, 0.10, 0.15),\n",
        "                    \"max_depth\": [ 3, 4, 5, 6, 8],\n",
        "                    \"min_child_weight\": [ 1, 3, 5, 7],\n",
        "                    \"gamma\":[ 0.0, 0.1, 0.2],\n",
        "                    \"colsample_bytree\":[ 0.3, 0.4],},\n",
        "        cv=3, scoring='neg_mean_squared_error', verbose=0, n_jobs=-1)\n",
        "grid_result = gsc.fit(X, y)\n",
        "print(f'best score: {grid_result.best_score_}')\n",
        "print(f'prediction: {grid_result.best_estimator_.predict(pred)[0]}')"
      ],
      "metadata": {
        "colab": {
          "base_uri": "https://localhost:8080/"
        },
        "id": "8l2CI7cV127n",
        "outputId": "b5117074-b0b1-48ad-b554-761162896b6a"
      },
      "execution_count": 95,
      "outputs": [
        {
          "output_type": "stream",
          "name": "stdout",
          "text": [
            "[09:09:58] WARNING: /workspace/src/objective/regression_obj.cu:152: reg:linear is now deprecated in favor of reg:squarederror.\n",
            "best score: -966778448299241.4\n",
            "prediction: 61067728.0\n"
          ]
        }
      ]
    },
    {
      "cell_type": "code",
      "source": [
        "df_5h = df.nlargest(500, 'opening_box_office')\n",
        "X = df_5h.drop(['opening_box_office'], axis=1)\n",
        "y = df_5h['opening_box_office']\n",
        "X = pre_processing(X)\n",
        "gsc = GridSearchCV(\n",
        "        estimator=XGBRegressor(),\n",
        "        param_grid={\"learning_rate\": (0.05, 0.10, 0.15),\n",
        "                    \"max_depth\": [ 3, 4, 5, 6, 8],\n",
        "                    \"min_child_weight\": [ 1, 3, 5, 7],\n",
        "                    \"gamma\":[ 0.0, 0.1, 0.2],\n",
        "                    \"colsample_bytree\":[ 0.3, 0.4],},\n",
        "        cv=3, scoring='neg_mean_squared_error', verbose=0, n_jobs=-1)\n",
        "grid_result = gsc.fit(X, y)\n",
        "print(f'best score: {grid_result.best_score_}')\n",
        "print(f'prediction: {grid_result.best_estimator_.predict(pred)[0]}')"
      ],
      "metadata": {
        "colab": {
          "base_uri": "https://localhost:8080/"
        },
        "id": "6D_aWPNA16T7",
        "outputId": "c317f5a3-004c-4a6b-e944-78ebd24ee442"
      },
      "execution_count": 96,
      "outputs": [
        {
          "output_type": "stream",
          "name": "stdout",
          "text": [
            "[09:11:41] WARNING: /workspace/src/objective/regression_obj.cu:152: reg:linear is now deprecated in favor of reg:squarederror.\n",
            "best score: -2048943050524630.2\n",
            "prediction: 68926976.0\n"
          ]
        }
      ]
    },
    {
      "cell_type": "code",
      "source": [
        "df_3h = df.nlargest(300, 'opening_box_office')\n",
        "X = df_3h.drop(['opening_box_office'], axis=1)\n",
        "y = df_3h['opening_box_office'].apply(np.log1p)\n",
        "X = pre_processing(X)\n",
        "# pred_ = pre_processing(pred)\n",
        "gsc = GridSearchCV(\n",
        "        estimator=XGBRegressor(),\n",
        "        param_grid={\"learning_rate\": (0.05, 0.10, 0.15),\n",
        "                    \"max_depth\": [ 3, 4, 5, 6, 8],\n",
        "                    \"min_child_weight\": [ 1, 3, 5, 7],\n",
        "                    \"gamma\":[ 0.0, 0.1, 0.2],\n",
        "                    \"colsample_bytree\":[ 0.3, 0.4],},\n",
        "        cv=3, scoring='neg_mean_squared_error', verbose=0, n_jobs=-1)\n",
        "grid_result = gsc.fit(X, y)\n",
        "print(f'best score: {grid_result.best_score_}')\n",
        "print(f'prediction: {np.expm1(grid_result.best_estimator_.predict(pred_)[0])}')"
      ],
      "metadata": {
        "colab": {
          "base_uri": "https://localhost:8080/"
        },
        "id": "H0zLXkjAv8n2",
        "outputId": "554b269e-5a17-4362-f344-093f1a717560"
      },
      "execution_count": 32,
      "outputs": [
        {
          "output_type": "stream",
          "name": "stdout",
          "text": [
            "prediction: 79310488.0\n"
          ]
        }
      ]
    },
    {
      "cell_type": "code",
      "source": [
        "df_1h = df.nlargest(100, 'opening_box_office')\n",
        "X = df_1h.drop(['opening_box_office'], axis=1)\n",
        "y = df_1h['opening_box_office']\n",
        "X = pre_processing(X)\n",
        "# pred_ = pre_processing(pred)\n",
        "# pred_ = pred_[X.columns]\n",
        "gsc = GridSearchCV(\n",
        "        estimator=XGBRegressor(),\n",
        "        param_grid={\"learning_rate\": (0.05, 0.10, 0.15),\n",
        "                    \"max_depth\": [ 3, 4, 5, 6, 8],\n",
        "                    \"min_child_weight\": [ 1, 3, 5, 7],\n",
        "                    \"gamma\":[ 0.0, 0.1, 0.2],\n",
        "                    \"colsample_bytree\":[ 0.3, 0.4],},\n",
        "        cv=3, scoring='neg_mean_squared_error', verbose=0, n_jobs=-1)\n",
        "grid_result = gsc.fit(X, y)\n",
        "print(f'best score: {grid_result.best_score_}')\n",
        "print(f'prediction: {grid_result.best_estimator_.predict(pred_)[0]}')"
      ],
      "metadata": {
        "colab": {
          "base_uri": "https://localhost:8080/"
        },
        "id": "Y-VhM_rswEBw",
        "outputId": "dcf7eb42-6523-43b2-8004-59cea54ac021"
      },
      "execution_count": 29,
      "outputs": [
        {
          "output_type": "stream",
          "name": "stdout",
          "text": [
            "[12:59:18] WARNING: /workspace/src/objective/regression_obj.cu:152: reg:linear is now deprecated in favor of reg:squarederror.\n",
            "best score: -3699719964045074.0\n",
            "prediction: 110521280.0\n"
          ]
        }
      ]
    },
    {
      "cell_type": "code",
      "source": [
        "fi = grid_result.best_estimator_.feature_importances_\n",
        "df_fi = pd.DataFrame(columns = ['feature', 'value'])\n",
        "df_fi['feature'] = X.columns\n",
        "df_fi['value'] = fi\n",
        "df_fi.sort_values(by=['value'], ascending=False)"
      ],
      "metadata": {
        "colab": {
          "base_uri": "https://localhost:8080/",
          "height": 654
        },
        "id": "s83fB83MyjTO",
        "outputId": "9e880fa1-2165-48b6-e212-4847ff879a2d"
      },
      "execution_count": 43,
      "outputs": [
        {
          "output_type": "execute_result",
          "data": {
            "text/plain": [
              "                        feature     value\n",
              "121        keyword_basedoncomic  0.079653\n",
              "1                        budget  0.071764\n",
              "129         cast_SamuelLJackson  0.055552\n",
              "166                     month_4  0.048387\n",
              "161                  log_budget  0.039923\n",
              "..                          ...       ...\n",
              "64     production_country_China  0.000000\n",
              "63     production_country_Spain  0.000000\n",
              "62   production_country_Ireland  0.000000\n",
              "61     production_country_Japan  0.000000\n",
              "88     spoken_language_Mandarin  0.000000\n",
              "\n",
              "[176 rows x 2 columns]"
            ],
            "text/html": [
              "\n",
              "  <div id=\"df-9223bd9d-a97c-44d6-8824-e8579d1871f1\">\n",
              "    <div class=\"colab-df-container\">\n",
              "      <div>\n",
              "<style scoped>\n",
              "    .dataframe tbody tr th:only-of-type {\n",
              "        vertical-align: middle;\n",
              "    }\n",
              "\n",
              "    .dataframe tbody tr th {\n",
              "        vertical-align: top;\n",
              "    }\n",
              "\n",
              "    .dataframe thead th {\n",
              "        text-align: right;\n",
              "    }\n",
              "</style>\n",
              "<table border=\"1\" class=\"dataframe\">\n",
              "  <thead>\n",
              "    <tr style=\"text-align: right;\">\n",
              "      <th></th>\n",
              "      <th>feature</th>\n",
              "      <th>value</th>\n",
              "    </tr>\n",
              "  </thead>\n",
              "  <tbody>\n",
              "    <tr>\n",
              "      <th>121</th>\n",
              "      <td>keyword_basedoncomic</td>\n",
              "      <td>0.079653</td>\n",
              "    </tr>\n",
              "    <tr>\n",
              "      <th>1</th>\n",
              "      <td>budget</td>\n",
              "      <td>0.071764</td>\n",
              "    </tr>\n",
              "    <tr>\n",
              "      <th>129</th>\n",
              "      <td>cast_SamuelLJackson</td>\n",
              "      <td>0.055552</td>\n",
              "    </tr>\n",
              "    <tr>\n",
              "      <th>166</th>\n",
              "      <td>month_4</td>\n",
              "      <td>0.048387</td>\n",
              "    </tr>\n",
              "    <tr>\n",
              "      <th>161</th>\n",
              "      <td>log_budget</td>\n",
              "      <td>0.039923</td>\n",
              "    </tr>\n",
              "    <tr>\n",
              "      <th>...</th>\n",
              "      <td>...</td>\n",
              "      <td>...</td>\n",
              "    </tr>\n",
              "    <tr>\n",
              "      <th>64</th>\n",
              "      <td>production_country_China</td>\n",
              "      <td>0.000000</td>\n",
              "    </tr>\n",
              "    <tr>\n",
              "      <th>63</th>\n",
              "      <td>production_country_Spain</td>\n",
              "      <td>0.000000</td>\n",
              "    </tr>\n",
              "    <tr>\n",
              "      <th>62</th>\n",
              "      <td>production_country_Ireland</td>\n",
              "      <td>0.000000</td>\n",
              "    </tr>\n",
              "    <tr>\n",
              "      <th>61</th>\n",
              "      <td>production_country_Japan</td>\n",
              "      <td>0.000000</td>\n",
              "    </tr>\n",
              "    <tr>\n",
              "      <th>88</th>\n",
              "      <td>spoken_language_Mandarin</td>\n",
              "      <td>0.000000</td>\n",
              "    </tr>\n",
              "  </tbody>\n",
              "</table>\n",
              "<p>176 rows × 2 columns</p>\n",
              "</div>\n",
              "      <button class=\"colab-df-convert\" onclick=\"convertToInteractive('df-9223bd9d-a97c-44d6-8824-e8579d1871f1')\"\n",
              "              title=\"Convert this dataframe to an interactive table.\"\n",
              "              style=\"display:none;\">\n",
              "        \n",
              "  <svg xmlns=\"http://www.w3.org/2000/svg\" height=\"24px\"viewBox=\"0 0 24 24\"\n",
              "       width=\"24px\">\n",
              "    <path d=\"M0 0h24v24H0V0z\" fill=\"none\"/>\n",
              "    <path d=\"M18.56 5.44l.94 2.06.94-2.06 2.06-.94-2.06-.94-.94-2.06-.94 2.06-2.06.94zm-11 1L8.5 8.5l.94-2.06 2.06-.94-2.06-.94L8.5 2.5l-.94 2.06-2.06.94zm10 10l.94 2.06.94-2.06 2.06-.94-2.06-.94-.94-2.06-.94 2.06-2.06.94z\"/><path d=\"M17.41 7.96l-1.37-1.37c-.4-.4-.92-.59-1.43-.59-.52 0-1.04.2-1.43.59L10.3 9.45l-7.72 7.72c-.78.78-.78 2.05 0 2.83L4 21.41c.39.39.9.59 1.41.59.51 0 1.02-.2 1.41-.59l7.78-7.78 2.81-2.81c.8-.78.8-2.07 0-2.86zM5.41 20L4 18.59l7.72-7.72 1.47 1.35L5.41 20z\"/>\n",
              "  </svg>\n",
              "      </button>\n",
              "      \n",
              "  <style>\n",
              "    .colab-df-container {\n",
              "      display:flex;\n",
              "      flex-wrap:wrap;\n",
              "      gap: 12px;\n",
              "    }\n",
              "\n",
              "    .colab-df-convert {\n",
              "      background-color: #E8F0FE;\n",
              "      border: none;\n",
              "      border-radius: 50%;\n",
              "      cursor: pointer;\n",
              "      display: none;\n",
              "      fill: #1967D2;\n",
              "      height: 32px;\n",
              "      padding: 0 0 0 0;\n",
              "      width: 32px;\n",
              "    }\n",
              "\n",
              "    .colab-df-convert:hover {\n",
              "      background-color: #E2EBFA;\n",
              "      box-shadow: 0px 1px 2px rgba(60, 64, 67, 0.3), 0px 1px 3px 1px rgba(60, 64, 67, 0.15);\n",
              "      fill: #174EA6;\n",
              "    }\n",
              "\n",
              "    [theme=dark] .colab-df-convert {\n",
              "      background-color: #3B4455;\n",
              "      fill: #D2E3FC;\n",
              "    }\n",
              "\n",
              "    [theme=dark] .colab-df-convert:hover {\n",
              "      background-color: #434B5C;\n",
              "      box-shadow: 0px 1px 3px 1px rgba(0, 0, 0, 0.15);\n",
              "      filter: drop-shadow(0px 1px 2px rgba(0, 0, 0, 0.3));\n",
              "      fill: #FFFFFF;\n",
              "    }\n",
              "  </style>\n",
              "\n",
              "      <script>\n",
              "        const buttonEl =\n",
              "          document.querySelector('#df-9223bd9d-a97c-44d6-8824-e8579d1871f1 button.colab-df-convert');\n",
              "        buttonEl.style.display =\n",
              "          google.colab.kernel.accessAllowed ? 'block' : 'none';\n",
              "\n",
              "        async function convertToInteractive(key) {\n",
              "          const element = document.querySelector('#df-9223bd9d-a97c-44d6-8824-e8579d1871f1');\n",
              "          const dataTable =\n",
              "            await google.colab.kernel.invokeFunction('convertToInteractive',\n",
              "                                                     [key], {});\n",
              "          if (!dataTable) return;\n",
              "\n",
              "          const docLinkHtml = 'Like what you see? Visit the ' +\n",
              "            '<a target=\"_blank\" href=https://colab.research.google.com/notebooks/data_table.ipynb>data table notebook</a>'\n",
              "            + ' to learn more about interactive tables.';\n",
              "          element.innerHTML = '';\n",
              "          dataTable['output_type'] = 'display_data';\n",
              "          await google.colab.output.renderOutput(dataTable, element);\n",
              "          const docLink = document.createElement('div');\n",
              "          docLink.innerHTML = docLinkHtml;\n",
              "          element.appendChild(docLink);\n",
              "        }\n",
              "      </script>\n",
              "    </div>\n",
              "  </div>\n",
              "  "
            ]
          },
          "metadata": {},
          "execution_count": 43
        }
      ]
    },
    {
      "cell_type": "code",
      "source": [
        "grid_result.best_params_"
      ],
      "metadata": {
        "colab": {
          "base_uri": "https://localhost:8080/"
        },
        "id": "FJmeEUhNye15",
        "outputId": "bb5401a2-b4fd-4956-a797-c78d848c4bf7"
      },
      "execution_count": 33,
      "outputs": [
        {
          "output_type": "execute_result",
          "data": {
            "text/plain": [
              "{'colsample_bytree': 0.4,\n",
              " 'gamma': 0.0,\n",
              " 'learning_rate': 0.15,\n",
              " 'max_depth': 3,\n",
              " 'min_child_weight': 7}"
            ]
          },
          "metadata": {},
          "execution_count": 33
        }
      ]
    },
    {
      "cell_type": "code",
      "source": [
        "df_3k = df.nlargest(3000, 'opening_box_office')\n",
        "X = df_3k.drop(['opening_box_office'], axis=1)\n",
        "y = df_3k['opening_box_office']\n",
        "X = pre_processing(X)\n",
        "gsc = GridSearchCV(\n",
        "        estimator=XGBRegressor(),\n",
        "        param_grid={\"learning_rate\": (0.05, 0.10, 0.15),\n",
        "                    \"max_depth\": [ 3, 4, 5, 6, 8],\n",
        "                    \"min_child_weight\": [ 1, 3, 5, 7],\n",
        "                    \"gamma\":[ 0.0, 0.1, 0.2],\n",
        "                    \"colsample_bytree\":[ 0.3, 0.4],},\n",
        "        cv=3, scoring='neg_mean_squared_error', verbose=0, n_jobs=-1)\n",
        "grid_result = gsc.fit(X, y)\n",
        "print(f'best score: {grid_result.best_score_}')\n",
        "print(f'prediction: {grid_result.best_estimator_.predict(pred)[0]}')"
      ],
      "metadata": {
        "colab": {
          "base_uri": "https://localhost:8080/"
        },
        "id": "NyPCmB532lzr",
        "outputId": "57ed4d38-1c91-42fa-853d-99d57b314f98"
      },
      "execution_count": 98,
      "outputs": [
        {
          "output_type": "stream",
          "name": "stdout",
          "text": [
            "[09:20:48] WARNING: /workspace/src/objective/regression_obj.cu:152: reg:linear is now deprecated in favor of reg:squarederror.\n",
            "best score: -751308815544494.9\n",
            "prediction: 45948292.0\n"
          ]
        }
      ]
    },
    {
      "cell_type": "code",
      "source": [
        "gsc = GridSearchCV(\n",
        "            estimator=XGBRegressor(),\n",
        "            param_grid={\"learning_rate\": (0.05, 0.10, 0.15),\n",
        "                        \"max_depth\": [ 3, 4, 5, 6, 8],\n",
        "                        \"min_child_weight\": [ 1, 3, 5, 7],\n",
        "                        \"gamma\":[ 0.0, 0.1, 0.2],\n",
        "                        \"colsample_bytree\":[ 0.3, 0.4],},\n",
        "            cv=3, scoring='neg_mean_squared_error', verbose=0, n_jobs=-1)\n",
        "\n",
        "grid_result = gsc.fit(train_X, train_y)"
      ],
      "metadata": {
        "colab": {
          "base_uri": "https://localhost:8080/"
        },
        "id": "DFqkFszbiYx2",
        "outputId": "c0d87454-9f26-4d3a-9915-bb7a7aca69f4"
      },
      "execution_count": 90,
      "outputs": [
        {
          "output_type": "stream",
          "name": "stdout",
          "text": [
            "[08:39:51] WARNING: /workspace/src/objective/regression_obj.cu:152: reg:linear is now deprecated in favor of reg:squarederror.\n"
          ]
        }
      ]
    },
    {
      "cell_type": "code",
      "source": [
        "grid_result.best_score_"
      ],
      "metadata": {
        "colab": {
          "base_uri": "https://localhost:8080/"
        },
        "id": "TEpk4O6vr7cK",
        "outputId": "5be088eb-b0c2-4a11-eca6-8c823c4885bc"
      },
      "execution_count": 91,
      "outputs": [
        {
          "output_type": "execute_result",
          "data": {
            "text/plain": [
              "-105884401528764.12"
            ]
          },
          "metadata": {},
          "execution_count": 91
        }
      ]
    },
    {
      "cell_type": "code",
      "source": [
        "grid_result.best_estimator_.predict(pred)"
      ],
      "metadata": {
        "colab": {
          "base_uri": "https://localhost:8080/"
        },
        "id": "1trG5DMvxqjX",
        "outputId": "df06fef3-5375-4c5a-dd74-18d23b658435"
      },
      "execution_count": 92,
      "outputs": [
        {
          "output_type": "execute_result",
          "data": {
            "text/plain": [
              "array([54806516.], dtype=float32)"
            ]
          },
          "metadata": {},
          "execution_count": 92
        }
      ]
    },
    {
      "cell_type": "code",
      "source": [
        "df_top1k = df.nlargest(1000, 'opening_box_office')"
      ],
      "metadata": {
        "id": "MD0i_IqgsdHY"
      },
      "execution_count": 83,
      "outputs": []
    },
    {
      "cell_type": "code",
      "source": [
        "train_X_top1k, test_X_top1k, train_y_top1k, test_y_top1k = train_test_split(\n",
        "    df_top1k.drop(['opening_box_office'], axis=1), df_top1k['opening_box_office'],\n",
        "    test_size=0.2, random_state=7414)\n",
        "\n",
        "train_X_top1k = pre_processing(train_X_top1k)\n",
        "test_X_top1k = pre_processing(test_X_top1k)"
      ],
      "metadata": {
        "id": "JgQJ_GL0tLU2"
      },
      "execution_count": 84,
      "outputs": []
    },
    {
      "cell_type": "code",
      "source": [
        "gsc = GridSearchCV(\n",
        "            estimator=XGBRegressor(),\n",
        "            param_grid={\"learning_rate\": (0.05, 0.10, 0.15),\n",
        "                        \"max_depth\": [ 3, 4, 5, 6, 8],\n",
        "                        \"min_child_weight\": [ 1, 3, 5, 7],\n",
        "                        \"gamma\":[ 0.0, 0.1, 0.2],\n",
        "                        \"colsample_bytree\":[ 0.3, 0.4],},\n",
        "            cv=3, scoring='neg_mean_squared_error', verbose=0, n_jobs=-1)\n",
        "\n",
        "grid_result_top1k = gsc.fit(train_X, train_y)"
      ],
      "metadata": {
        "colab": {
          "base_uri": "https://localhost:8080/"
        },
        "id": "kylyF9mqtjzV",
        "outputId": "fbd26389-abda-4a31-f347-6271ad8eea30"
      },
      "execution_count": 87,
      "outputs": [
        {
          "output_type": "stream",
          "name": "stdout",
          "text": [
            "[08:22:33] WARNING: /workspace/src/objective/regression_obj.cu:152: reg:linear is now deprecated in favor of reg:squarederror.\n"
          ]
        }
      ]
    },
    {
      "cell_type": "code",
      "source": [
        "grid_result_top1k.best_score_"
      ],
      "metadata": {
        "colab": {
          "base_uri": "https://localhost:8080/"
        },
        "id": "ESgy-5wVttOh",
        "outputId": "8666157a-ab6a-4f00-be35-8f82782ba58d"
      },
      "execution_count": 88,
      "outputs": [
        {
          "output_type": "execute_result",
          "data": {
            "text/plain": [
              "-105884401528764.12"
            ]
          },
          "metadata": {},
          "execution_count": 88
        }
      ]
    },
    {
      "cell_type": "code",
      "source": [
        "grid_result_top1k.best_estimator_.predict(pred)"
      ],
      "metadata": {
        "colab": {
          "base_uri": "https://localhost:8080/"
        },
        "id": "Fj7zsmDcxEsS",
        "outputId": "d4dd6e1b-d3a1-4125-962b-a498a7ba07da"
      },
      "execution_count": 89,
      "outputs": [
        {
          "output_type": "execute_result",
          "data": {
            "text/plain": [
              "array([54806516.], dtype=float32)"
            ]
          },
          "metadata": {},
          "execution_count": 89
        }
      ]
    }
  ],
  "metadata": {
    "interpreter": {
      "hash": "a14a146f0b611111f03568e346a7a0415a545524a74cd9a186cd2534276f562c"
    },
    "kernelspec": {
      "display_name": "Python 3.8.12 ('xgboost')",
      "language": "python",
      "name": "python3"
    },
    "language_info": {
      "codemirror_mode": {
        "name": "ipython",
        "version": 3
      },
      "file_extension": ".py",
      "mimetype": "text/x-python",
      "name": "python",
      "nbconvert_exporter": "python",
      "pygments_lexer": "ipython3",
      "version": "3.8.12"
    },
    "orig_nbformat": 4,
    "colab": {
      "name": "main.ipynb",
      "provenance": [],
      "collapsed_sections": []
    }
  },
  "nbformat": 4,
  "nbformat_minor": 0
}