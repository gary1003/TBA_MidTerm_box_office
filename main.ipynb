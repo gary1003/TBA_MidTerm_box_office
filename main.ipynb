{
 "cells": [
  {
   "cell_type": "markdown",
   "metadata": {},
   "source": [
    "# CIE 5104 Traveler Behavior Analysis: Mid-Term Examination (Take-Home)\n",
    "## Q1 Box office prediction\n",
    "### Data collection - TMDB"
   ]
  },
  {
   "cell_type": "code",
   "execution_count": null,
   "metadata": {},
   "outputs": [],
   "source": []
  }
 ],
 "metadata": {
  "interpreter": {
   "hash": "a14a146f0b611111f03568e346a7a0415a545524a74cd9a186cd2534276f562c"
  },
  "kernelspec": {
   "display_name": "Python 3.8.12 ('xgboost')",
   "language": "python",
   "name": "python3"
  },
  "language_info": {
   "name": "python",
   "version": "3.8.12"
  },
  "orig_nbformat": 4
 },
 "nbformat": 4,
 "nbformat_minor": 2
}
